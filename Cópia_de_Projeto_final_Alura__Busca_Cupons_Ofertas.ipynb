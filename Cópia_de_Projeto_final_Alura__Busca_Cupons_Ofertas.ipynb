{
  "nbformat": 4,
  "nbformat_minor": 0,
  "metadata": {
    "colab": {
      "provenance": [],
      "authorship_tag": "ABX9TyNlcnFoCMgoXCz4PqA5ZQwP",
      "include_colab_link": true
    },
    "kernelspec": {
      "name": "python3",
      "display_name": "Python 3"
    },
    "language_info": {
      "name": "python"
    }
  },
  "cells": [
    {
      "cell_type": "markdown",
      "metadata": {
        "id": "view-in-github",
        "colab_type": "text"
      },
      "source": [
        "<a href=\"https://colab.research.google.com/github/Vicente-Reis/Projeto_Busca_Cupons_Ofertas/blob/main/C%C3%B3pia_de_Projeto_final_Alura__Busca_Cupons_Ofertas.ipynb\" target=\"_parent\"><img src=\"https://colab.research.google.com/assets/colab-badge.svg\" alt=\"Open In Colab\"/></a>"
      ]
    },
    {
      "cell_type": "code",
      "source": [
        "import requests\n",
        "from bs4 import BeautifulSoup\n",
        "import datetime\n",
        "import tkinter as tk\n",
        "\n",
        "\n",
        "def buscar_cupons_por_produto(produto):\n",
        "    \"\"\"\n",
        "    Busca cupons para um determinado produto utilizando a API do Cuponomia e scraping.\n",
        "\n",
        "    Args:\n",
        "        produto (str): Nome do produto para o qual se deseja buscar cupons.\n",
        "    \"\"\"\n",
        "\n",
        "    # Substitua \"SEU_TOKEN_DE_API\" por um token válido da sua API de cupons\n",
        "    url_api = f\"https://www.cuponomia.com.br/desconto?produto={produto}&token=SECRET_KEY\"\n",
        "\n",
        "    from google.colab import userdata\n",
        "    api_key = userdata.get('SECRET_KEY')\n",
        "\n",
        "    try:\n",
        "        response = requests.get(url_api)\n",
        "    except requests.exceptions.RequestException as e:\n",
        "        print(f\"Erro ao fazer requisição à API: {e}\")\n",
        "        return []  # Retorna lista vazia em caso de erro na requisição\n",
        "\n",
        "    # Verifica se a resposta está vazia\n",
        "    if not response.content:\n",
        "        print(\"Resposta vazia recebida da API.\")\n",
        "        return []  # Retorna lista vazia em caso de resposta vazia\n",
        "\n",
        "    # Verifica o tipo de conteúdo da resposta (opcional)\n",
        "    # if response.headers['Content-Type'] != 'application/json':\n",
        "    #    print(\"Resposta não está no formato JSON.\")\n",
        "    #    return []  # Retorna lista vazia em caso de resposta não JSON\n",
        "\n",
        "    try:\n",
        "        cupons_api = response.json()\n",
        "    except JSONDecodeError as e:\n",
        "        print(f\"Erro ao decodificar resposta JSON: {e}\")\n",
        "        cupons_api = []  # Define como lista vazia ou trate o erro de forma diferente\n",
        "\n",
        "    # Utilize scraping para buscar cupons em sites especializados\n",
        "    # Exemplo de como buscar cupons no site \"Cuponomia\":\n",
        "    url_cuponomia = f\"https://www.cuponomia.com.br/desconto?q={produto}\"\n",
        "    response = requests.get(url_cuponomia)\n",
        "    soup = BeautifulSoup(response.content, 'html.parser')\n",
        "\n",
        "    cupons_scraping = []\n",
        "    for cupom in soup.find_all('div', class_='cupom'):\n",
        "        codigo_cupom = cupom.find('span', class_='codigo-cupom').text\n",
        "        loja = cupom.find('span', class_='loja').text\n",
        "        desconto = cupom.find('span', class_='desconto').text\n",
        "        data_validade = cupom.find('span', class_='data-validade').text\n",
        "\n",
        "        cupons_scraping.append({\n",
        "            'codigo_cupom': codigo_cupom,\n",
        "            'loja': loja,\n",
        "            'desconto': desconto,\n",
        "            'data_validade': data_validade\n",
        "        })\n",
        "\n",
        "    # Combine os cupons da API e do scraping em uma lista única\n",
        "    cupons = cupons_api + cupons_scraping\n",
        "\n",
        "    # Filtre e ordene os cupons por relevância, data de validade e confiabilidade da fonte\n",
        "    cupons_filtrados = filtrar_e_ordenar_cupons(cupons)\n",
        "\n",
        "    return cupons_filtrados\n",
        "\n",
        "\n",
        "def filtrar_e_ordenar_cupons(cupons):\n",
        "    \"\"\"\n",
        "    Filtra e ordena os cupons por data de validade e desconto.\n",
        "\n",
        "    Args:\n",
        "        cupons (list): Lista de dicionários contendo informações sobre os cupons.\n",
        "\n",
        "    Returns:\n",
        "        list: Lista de dicionários contendo os cupons filtrados e ordenados.\n",
        "    \"\"\"\n",
        "\n",
        "    # Filtre cupons por data de validade (excluindo cupons expirados)\n",
        "    cupons_validos = [cupom for cupom in cupons if cupom['data_validade'] >= datetime.today()]\n",
        "\n",
        "    # Ordene os cupons por desconto (maior para menor)\n",
        "    cupons_validos.sort(key=lambda cupom: float(cupom['desconto'].replace('%', '')), reverse=True)\n",
        "\n",
        "    return cupons_validos\n",
        "\n",
        "\n",
        "def exibir_cupons(cupons):\n",
        "    \"\"\"\n",
        "    Exibe os cupons de forma clara e organizada.\n",
        "\n",
        "    Args:\n",
        "        cupons (list): Lista de dicionários contendo informações sobre os cupons.\n",
        "    \"\"\"\n",
        "\n",
        "    if not cupons:\n",
        "        print(\"Nenhum cupom\")\n"
      ],
      "metadata": {
        "id": "opyaeJg9gWwT"
      },
      "execution_count": 2,
      "outputs": []
    },
    {
      "cell_type": "code",
      "source": [
        "def imprimir_mensagem(mensagem):\n",
        "  \"\"\"\n",
        "  Imprime uma mensagem na tela.\n",
        "\n",
        "  Args:\n",
        "    mensagem (str): Digite o produto da busca\n",
        "  \"\"\"\n",
        "  print(mensagem)\n",
        "\n",
        "imprimir_mensagem(\"\")\n"
      ],
      "metadata": {
        "colab": {
          "base_uri": "https://localhost:8080/"
        },
        "id": "JP40BcJep7I_",
        "outputId": "a39f7f79-90a7-42b6-e244-07f4a5aea170"
      },
      "execution_count": null,
      "outputs": [
        {
          "output_type": "stream",
          "name": "stdout",
          "text": [
            "\n"
          ]
        }
      ]
    }
  ]
}